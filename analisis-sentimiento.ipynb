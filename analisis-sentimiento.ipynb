{
 "cells": [
  {
   "cell_type": "code",
   "execution_count": 1,
   "id": "6df657fa-6281-40af-b354-ca549ffc44d6",
   "metadata": {},
   "outputs": [
    {
     "name": "stdout",
     "output_type": "stream",
     "text": [
      "Defaulting to user installation because normal site-packages is not writeable\n",
      "Requirement already satisfied: nltk in /home/md/.local/lib/python3.10/site-packages (3.8.1)\n",
      "Requirement already satisfied: textblob in /home/md/.local/lib/python3.10/site-packages (0.17.1)\n",
      "Requirement already satisfied: deep_translator in /home/md/.local/lib/python3.10/site-packages (1.11.4)\n",
      "Requirement already satisfied: click in /usr/lib/python3/dist-packages (from nltk) (8.0.3)\n",
      "Requirement already satisfied: joblib in /home/md/.local/lib/python3.10/site-packages (from nltk) (1.3.2)\n",
      "Requirement already satisfied: regex>=2021.8.3 in /home/md/.local/lib/python3.10/site-packages (from nltk) (2023.10.3)\n",
      "Requirement already satisfied: tqdm in /home/md/.local/lib/python3.10/site-packages (from nltk) (4.66.1)\n",
      "Requirement already satisfied: requests<3.0.0,>=2.23.0 in /home/md/.local/lib/python3.10/site-packages (from deep_translator) (2.31.0)\n",
      "Requirement already satisfied: beautifulsoup4<5.0.0,>=4.9.1 in /home/md/.local/lib/python3.10/site-packages (from deep_translator) (4.12.2)\n",
      "Requirement already satisfied: soupsieve>1.2 in /home/md/.local/lib/python3.10/site-packages (from beautifulsoup4<5.0.0,>=4.9.1->deep_translator) (2.5)\n",
      "Requirement already satisfied: urllib3<3,>=1.21.1 in /usr/lib/python3/dist-packages (from requests<3.0.0,>=2.23.0->deep_translator) (1.26.5)\n",
      "Requirement already satisfied: charset-normalizer<4,>=2 in /home/md/.local/lib/python3.10/site-packages (from requests<3.0.0,>=2.23.0->deep_translator) (3.3.1)\n",
      "Requirement already satisfied: idna<4,>=2.5 in /usr/lib/python3/dist-packages (from requests<3.0.0,>=2.23.0->deep_translator) (3.3)\n",
      "Requirement already satisfied: certifi>=2017.4.17 in /usr/lib/python3/dist-packages (from requests<3.0.0,>=2.23.0->deep_translator) (2020.6.20)\n"
     ]
    }
   ],
   "source": [
    "! pip install nltk textblob deep_translator"
   ]
  },
  {
   "cell_type": "code",
   "execution_count": 2,
   "id": "683c7d74-f685-4760-89f7-b3fdffe69af3",
   "metadata": {},
   "outputs": [
    {
     "name": "stderr",
     "output_type": "stream",
     "text": [
      "[nltk_data] Downloading package punkt to /home/md/nltk_data...\n",
      "[nltk_data]   Package punkt is already up-to-date!\n",
      "[nltk_data] Downloading package stopwords to /home/md/nltk_data...\n",
      "[nltk_data]   Package stopwords is already up-to-date!\n"
     ]
    },
    {
     "data": {
      "text/plain": [
       "True"
      ]
     },
     "execution_count": 2,
     "metadata": {},
     "output_type": "execute_result"
    }
   ],
   "source": [
    "import nltk\n",
    "from nltk.corpus import stopwords\n",
    "from nltk.tokenize import word_tokenize\n",
    "from deep_translator import GoogleTranslator\n",
    "from textblob import TextBlob\n",
    "\n",
    "# Descargar los recursos necesarios de NLTK\n",
    "nltk.download('punkt')\n",
    "nltk.download('stopwords')"
   ]
  },
  {
   "cell_type": "code",
   "execution_count": 3,
   "id": "6d318bbe-aec6-4712-88fa-0aedb64d9853",
   "metadata": {},
   "outputs": [],
   "source": [
    "# Definir la lista de palabras vacías\n",
    "stop_words = set(stopwords.words('english'))\n",
    "\n",
    "# Función para eliminar palabras vacías y neutras, conservando solo palabras con carga sentimental\n",
    "def preprocesar_texto(texto):\n",
    "    palabras = word_tokenize(texto)\n",
    "    palabras_filtradas = [palabra for palabra in palabras if not palabra in stop_words and TextBlob(palabra).sentiment.polarity != 0]\n",
    "    return ' '.join(palabras_filtradas)\n",
    "\n",
    "def dividir_texto(texto, limite_caracteres=4000):\n",
    "    palabras = texto.split()\n",
    "    secciones = []\n",
    "    current_section = palabras[0]\n",
    "\n",
    "    for palabra in palabras[1:]:\n",
    "        if len(current_section) + len(palabra) + 1 <= limite_caracteres:\n",
    "            current_section += ' ' + palabra\n",
    "        else:\n",
    "            secciones.append(current_section)\n",
    "            current_section = palabra\n",
    "\n",
    "    secciones.append(current_section)\n",
    "    return secciones\n",
    "\n",
    "discurso = \"Estimadas amigas, estimados amigos. Es para mí un honor dirigirme a ustedes en este encuentro. Volvemos a reunirnos después de ocho años. Y aunque el mundo de hoy es otro, nuestra voluntad de transitar un camino común para enfrentar unidos los nuevos desafíos parece mantenerse inalterable. Me dirijo a ustedes como miembro de la CELAC, luego de haber ejercido su Presidencia Pro Tempore en el año 2022; entonces dos lemas nos inspiraban; primero, que nuestra región este “Unidad en la Diversidad”, segundo, que “América Latina y Caribe sigan creciendo, como Zona de Paz”. Llevamos a cabo esta labor como una continuidad del trabajo realizado por los países que nos precedieron, como México, buscando conducir a la CELAC hacia su fortalecimiento institucional en tanto proyecto común de expresión genuina de los intereses de nuestro continente. Con satisfacción puedo afirmar que, con mucho esfuerzo, hemos hecho de la CELAC una construcción colectiva, conscientes del valor de cada uno de sus miembros. La Argentina es parte de esta comunidad, con la profunda convicción de que el trabajo mancomunado, que valora la riqueza cultural de la región, robustece nuestra voz en el escenario global. Con estas ideas fundantes, y destacando la importancia central que tiene para nuestra Comunidad la alternancia, hicimos el traspaso de la Presidencia Pro Tempore a San Vicente y las Granadinas, quien ha liderado exitosamente los trabajos preparativos para esta Cumbre, poniéndonos a entera disposición para acompañar semejante tarea. Nuestro objetivo primordial pasa por afianzar la integración latinoamericana y caribeña. Estamos convencidos de que éste es nuestro destino común y que debe ser construido de manera constante, generación tras generación. La pandemia de Covid-19 demostró la importancia de la solidaridad entre las naciones latinoamericanas, también caribeñas, y puso en valor a la CELAC como mecanismo de diálogo y concertación política, en un contexto en que las instituciones multilaterales fueron puestas a prueba por una crisis sin precedentes. La Presidencia Pro Tempore argentina buscó avanzar desde unaagenda enfocada en la gestión de la pandemia hacia una agenda post pandémica. En el entendimiento de que la CELAC constituye la plataforma ideal para mejorar el posicionamiento de la región en su plano externo, buscamos profundizar el relacionamiento tanto con nuestros socios extrarregionales como con distintos espacios y organismos de integración regional, potenciando las relacionesexistentes y explorando, a la vez, nuevos vínculos con otros actoresglobales. En este marco, promovimos el relanzamiento del diálogo con la Unión Europea, celebrado en octubre de 2022 cuando se llevó adelante la Tercera Reunión de Cancilleres de ambos bloques, allí aprobamos una hoja de ruta que pavimentó el camino que nos condujo hasta el encuentro de hoy. América Latina y el Caribe es una región marcada por profundas brechas socioeconómicas, donde millones de personas enfrentan la pobreza y la falta de acceso a servicios básicos. Como el resto del mundo, hemos enfrentado una crisis en cadena que ha determinado efectos perniciosos sobre nuestras sociedades, que se traducen en un incremento de la inseguridad energética y alimentaria y en un empeoramiento de los principales indicadores sociales. En el caso de la Argentina, a esa crisis en cascada se sumó el efecto negativo generado por una deuda con el Fondo Monetario Internacional que mi gobierno jamás hubiera asumido, pero que afronta con mucho esfuerzo y profunda responsabilidad. Así actuamos, pero todos deben saber que en el tiempo que vivimos ninguna reestructuración de deuda puede marginar a los empobrecidos, ni postergar los sueños y el futuro de un país. El problema de la deuda externa también atormenta a muchos países hermanos de nuestra región. América Latina y el Caribe es la región más endeudada del mundo en desarrollo. El peso promedio de la deuda externa supera el 77 por ciento del Producto Bruto integral. Las debilidades estructurales del sistema internacional que hicieron que los países en desarrollo sufriéramos más que otros la pandemia son las amenazas que también amenazan nuestra recuperación. Sabemos que nuestras sociedades crujen cuando el mercado excluye y el Estado no encuentra mecanismos de integración y participación. La Unión Europa no escapa de esta realidad. Yo celebro que Europa, parte del norte desarrollado, mire con vocación integradora al Caribe y a la América Latina, parte del sur que quiere desarrollarse. El acto de asociación supone la existencia de partes que se entienden en la búsqueda de un desarrollo equilibrado. Una asociación exige que ambas partes se benefician en el acuerdo. Cuando solo se beneficia una de las partes eso deja de ser un acuerdo y empieza a parecerse a una burla. Nuestras regiones deben promover un comercio justo, equitativo, basado en el respeto mutuo. La promoción de inversiones sostenibles y la diversificación de nuestras economías deben impulsar el crecimiento y el desarrollo en nuestras regiones, generando empleo y oportunidades para nuestros ciudadanos. Si no atendemos a ello, entonces nuestra voluntad acabará naufragando en una nueva desilusión. Reconocemos valores compartidos. La promoción y el respeto irrestricto de los Derechos Humanos y las libertades individuales, la democracia y el estado de derecho son aspectos centrales que todos preservamos. Para dar sustento a estos valores y construir sociedades más justas, debemos promover políticas inclusivas que garanticen el acceso igualitario a la educación, a la salud, al empleo digno y a la protección social. Es responsabilidad de nuestros gobiernos trabajar en conjunto para garantizar que nadie quede al margen de la sociedad y atrapado en el pozo de la pobreza. Estamos enfrentando un tiempo en el que las voces que maltratan la democracia encuentran eco en amplios sectores de la sociedad.Es imperioso que tejamos entre todos un entramado que restaure la confianza de nuestros ciudadanos en los procesos políticos democráticos. Que promueva la transparencia, la rendición de cuentas y fortalezca nuestras instituciones y también la convivencia democrática. Que acalle el ruido de los que se valen de la democracia tan solo para maltratarla más tarde. Este año, Argentina celebra 40 años del restablecimiento de la democracia, y aprovecho esta ocasión para reafirmar una vez más nuestro compromiso con los Derechos Humanos, con la protección de los Derechos Humanos como una política de Estado, lo que constituye una parte indisoluble de nuestra identidad. Finalmente, otro de los temas prioritarios de nuestra agenda común es el impacto del cambio climático. Las consecuencias del calentamiento global están afectando de manera desproporcionada a nuestras regiones expuestas a fenómenos climáticos extremos. Argentina está sufriendo los efectos de la peor sequía que la historia registra desde 1929. Lamentablemente, cada nación que compone nuestra comunidad, de distintas maneras, se ha visto marcada por este flagelo. Debemos fortalecer nuestra colaboración en este ámbito, adoptando compromisos para mitigar las consecuencias de esta crisis y promover una transición hacia una economía sostenible y respetuosa con el medio ambiente, teniendo en cuenta el principio de las responsabilidades comunes pero diferenciadas y las respectivas capacidades nacionales. Europa sabe bien que somos proveedores de oxígeno que brindan nuestras selvas, nuestros bosques y nuestros montes. Europa y el norte desarrollado saben bien que somos acreedores ambientales aunque nunca hemos sido tratados de ese modo. Reconociendo lo dicho, resulta necesario que Europa y el mundo desarrollado cumplan con el compromiso asumido de proporcionar los recursos financieros necesarios, que nos permitan desarrollar energías limpias y sustentables. Estamos convencidos de que la arquitectura de financiamiento ambiental multilateral debe ser justa, transparente, equitativa y basada en el principio de responsabilidades comunes pero diferenciadas. Estos desafíos nos obligan a actuar de manera conjunta y colaborativa. La relación entre los países de América Latina y el Caribe y la Unión Europea debe basarse en la confianza, el diálogo y la cooperación mutua. Nuestra interacción debe contemplar las asimetrías y desequilibrios existentes entre nuestras regiones como línea de partida. Si atendemos todo lo dicho, podemos construir un eje económico y comercial que no nos someta a la nueva bipolaridad que el mundo está vislumbra. Trabajando unidos, podemos presentar una alternativa a los retos que el mundo global nos propone. Debemos trabajar por un desarrollo inclusive y sostenible que respete el multilateralismo. Ese es el camino a seguir para construir un futuro más próspero para nuestras regiones y para las generaciones venideras. Este es la segunda vez que participo de un encuentro entre la Unión Europea y la CELAC. La primera vez lo hice Viena, siendo jefe de Gabinete del Gobierno de Néstor Kirchner y ahora lo hago como presidente de la Argentina. Han pasado ochos años del último encuentro no puede ser que convirtamos este encuentro en un punto de inicio de acuerdo entre la Unión Europea y la América Latina. Creo que es posible más cuando veo que Jorge Luis Borges inspira a los europeos tantas veces. Muchas gracias a todos y todas. \"\n",
    "\n",
    "secciones = dividir_texto(discurso)\n",
    "\n",
    "texto_traducido = ''\n",
    "for seccion in secciones:\n",
    "    texto_traducido += GoogleTranslator(source='auto', target='en').translate(seccion) + ' '\n",
    "\n",
    "texto_preprocesado = preprocesar_texto(texto_traducido)"
   ]
  },
  {
   "cell_type": "code",
   "execution_count": 4,
   "id": "436424b0-15a0-411e-bca8-47cb6f4f375d",
   "metadata": {},
   "outputs": [
    {
     "data": {
      "text/plain": [
       "'common new First common genuine great aware cultural successfully available primary common multilateral ideal new Foreign marked main social negative great live foreign many average developed wants fair new disappointment decent social trapped broad common extreme worst Unfortunately marked friendly common developed developed clean multilateral fair common economic subject new first many much'"
      ]
     },
     "execution_count": 4,
     "metadata": {},
     "output_type": "execute_result"
    }
   ],
   "source": [
    "texto_preprocesado"
   ]
  },
  {
   "cell_type": "code",
   "execution_count": 8,
   "id": "fff7a2f7-6c2b-49f4-a9e0-e1940b711436",
   "metadata": {},
   "outputs": [
    {
     "name": "stdout",
     "output_type": "stream",
     "text": [
      "Emociones: {'anger': 0, 'anticipation': 1, 'disgust': 1, 'fear': 0, 'joy': 2, 'negative': 4, 'positive': 10, 'sadness': 2, 'surprise': 0, 'trust': 3}\n"
     ]
    }
   ],
   "source": [
    "'''\n",
    "Archivo obtenido de:\n",
    "https://saifmohammad.com/WebPages/NRC-Emotion-Lexicon.htm\n",
    "\n",
    "The NRC Emotion Lexicon is a list of English words and their associations with eight basic emotions \n",
    "(anger, fear, anticipation, trust, surprise, sadness, joy, and disgust) and two sentiments (negative and positive). \n",
    "The annotations were manually done by crowdsourcing.\n",
    "'''\n",
    "\n",
    "NRC_LEXICON = 'NRC-Emotion-Lexicon-Wordlevel-v0.92.txt'\n",
    "\n",
    "emolex = {}\n",
    "with open(NRC_LEXICON, 'r') as f:\n",
    "    for line in f:\n",
    "        word, emotion, flag = line.strip().split()\n",
    "        if word not in emolex:\n",
    "            emolex[word] = {}\n",
    "        emolex[word][emotion] = int(flag)\n",
    "\n",
    "emotions = {emotion: 0 for emotion in emolex[list(emolex.keys())[0]].keys()}\n",
    "for word in texto_preprocesado.split():\n",
    "    if word in emolex:\n",
    "        for emotion in emolex[word]:\n",
    "            if emolex[word][emotion] == 1:\n",
    "                emotions[emotion] += 1\n",
    "\n",
    "print(\"Emociones:\", emotions)"
   ]
  },
  {
   "cell_type": "code",
   "execution_count": null,
   "id": "634d9443-7e05-4311-8a98-be3489be0834",
   "metadata": {},
   "outputs": [],
   "source": []
  }
 ],
 "metadata": {
  "kernelspec": {
   "display_name": "Python 3 (ipykernel)",
   "language": "python",
   "name": "python3"
  },
  "language_info": {
   "codemirror_mode": {
    "name": "ipython",
    "version": 3
   },
   "file_extension": ".py",
   "mimetype": "text/x-python",
   "name": "python",
   "nbconvert_exporter": "python",
   "pygments_lexer": "ipython3",
   "version": "3.10.12"
  }
 },
 "nbformat": 4,
 "nbformat_minor": 5
}
