{
 "cells": [
  {
   "cell_type": "code",
   "execution_count": 1,
   "id": "6df657fa-6281-40af-b354-ca549ffc44d6",
   "metadata": {},
   "outputs": [
    {
     "name": "stdout",
     "output_type": "stream",
     "text": [
      "Defaulting to user installation because normal site-packages is not writeable\n",
      "Requirement already satisfied: nltk in /home/md/.local/lib/python3.10/site-packages (3.8.1)\n",
      "Requirement already satisfied: textblob in /home/md/.local/lib/python3.10/site-packages (0.17.1)\n",
      "Requirement already satisfied: deep_translator in /home/md/.local/lib/python3.10/site-packages (1.11.4)\n",
      "Requirement already satisfied: pandas in /home/md/.local/lib/python3.10/site-packages (2.1.1)\n",
      "Requirement already satisfied: scrapy in /home/md/.local/lib/python3.10/site-packages (2.11.0)\n",
      "Requirement already satisfied: regex>=2021.8.3 in /home/md/.local/lib/python3.10/site-packages (from nltk) (2023.10.3)\n",
      "Requirement already satisfied: tqdm in /home/md/.local/lib/python3.10/site-packages (from nltk) (4.66.1)\n",
      "Requirement already satisfied: joblib in /home/md/.local/lib/python3.10/site-packages (from nltk) (1.3.2)\n",
      "Requirement already satisfied: click in /usr/lib/python3/dist-packages (from nltk) (8.0.3)\n",
      "Requirement already satisfied: requests<3.0.0,>=2.23.0 in /home/md/.local/lib/python3.10/site-packages (from deep_translator) (2.31.0)\n",
      "Requirement already satisfied: beautifulsoup4<5.0.0,>=4.9.1 in /home/md/.local/lib/python3.10/site-packages (from deep_translator) (4.12.2)\n",
      "Requirement already satisfied: tzdata>=2022.1 in /home/md/.local/lib/python3.10/site-packages (from pandas) (2023.3)\n",
      "Requirement already satisfied: numpy>=1.22.4 in /home/md/.local/lib/python3.10/site-packages (from pandas) (1.26.1)\n",
      "Requirement already satisfied: python-dateutil>=2.8.2 in /home/md/.local/lib/python3.10/site-packages (from pandas) (2.8.2)\n",
      "Requirement already satisfied: pytz>=2020.1 in /usr/lib/python3/dist-packages (from pandas) (2022.1)\n",
      "Requirement already satisfied: itemloaders>=1.0.1 in /home/md/.local/lib/python3.10/site-packages (from scrapy) (1.1.0)\n",
      "Requirement already satisfied: cssselect>=0.9.1 in /home/md/.local/lib/python3.10/site-packages (from scrapy) (1.2.0)\n",
      "Requirement already satisfied: PyDispatcher>=2.0.5 in /home/md/.local/lib/python3.10/site-packages (from scrapy) (2.0.7)\n",
      "Requirement already satisfied: tldextract in /home/md/.local/lib/python3.10/site-packages (from scrapy) (5.0.1)\n",
      "Requirement already satisfied: packaging in /home/md/.local/lib/python3.10/site-packages (from scrapy) (23.2)\n",
      "Requirement already satisfied: lxml>=4.4.1 in /home/md/.local/lib/python3.10/site-packages (from scrapy) (4.9.3)\n",
      "Requirement already satisfied: cryptography>=36.0.0 in /home/md/.local/lib/python3.10/site-packages (from scrapy) (41.0.4)\n",
      "Requirement already satisfied: parsel>=1.5.0 in /home/md/.local/lib/python3.10/site-packages (from scrapy) (1.8.1)\n",
      "Requirement already satisfied: itemadapter>=0.1.0 in /home/md/.local/lib/python3.10/site-packages (from scrapy) (0.8.0)\n",
      "Requirement already satisfied: protego>=0.1.15 in /home/md/.local/lib/python3.10/site-packages (from scrapy) (0.3.0)\n",
      "Requirement already satisfied: setuptools in /usr/lib/python3/dist-packages (from scrapy) (59.6.0)\n",
      "Requirement already satisfied: zope.interface>=5.1.0 in /home/md/.local/lib/python3.10/site-packages (from scrapy) (6.1)\n",
      "Requirement already satisfied: service-identity>=18.1.0 in /home/md/.local/lib/python3.10/site-packages (from scrapy) (23.1.0)\n",
      "Requirement already satisfied: queuelib>=1.4.2 in /home/md/.local/lib/python3.10/site-packages (from scrapy) (1.6.2)\n",
      "Requirement already satisfied: Twisted<23.8.0,>=18.9.0 in /home/md/.local/lib/python3.10/site-packages (from scrapy) (22.10.0)\n",
      "Requirement already satisfied: w3lib>=1.17.0 in /home/md/.local/lib/python3.10/site-packages (from scrapy) (2.1.2)\n",
      "Requirement already satisfied: pyOpenSSL>=21.0.0 in /home/md/.local/lib/python3.10/site-packages (from scrapy) (23.2.0)\n",
      "Requirement already satisfied: soupsieve>1.2 in /home/md/.local/lib/python3.10/site-packages (from beautifulsoup4<5.0.0,>=4.9.1->deep_translator) (2.5)\n",
      "Requirement already satisfied: cffi>=1.12 in /home/md/.local/lib/python3.10/site-packages (from cryptography>=36.0.0->scrapy) (1.16.0)\n",
      "Requirement already satisfied: jmespath>=0.9.5 in /home/md/.local/lib/python3.10/site-packages (from itemloaders>=1.0.1->scrapy) (1.0.1)\n",
      "Requirement already satisfied: six>=1.5 in /usr/lib/python3/dist-packages (from python-dateutil>=2.8.2->pandas) (1.16.0)\n",
      "Requirement already satisfied: certifi>=2017.4.17 in /usr/lib/python3/dist-packages (from requests<3.0.0,>=2.23.0->deep_translator) (2020.6.20)\n",
      "Requirement already satisfied: idna<4,>=2.5 in /usr/lib/python3/dist-packages (from requests<3.0.0,>=2.23.0->deep_translator) (3.3)\n",
      "Requirement already satisfied: charset-normalizer<4,>=2 in /home/md/.local/lib/python3.10/site-packages (from requests<3.0.0,>=2.23.0->deep_translator) (3.3.1)\n",
      "Requirement already satisfied: urllib3<3,>=1.21.1 in /usr/lib/python3/dist-packages (from requests<3.0.0,>=2.23.0->deep_translator) (1.26.5)\n",
      "Requirement already satisfied: attrs>=19.1.0 in /home/md/.local/lib/python3.10/site-packages (from service-identity>=18.1.0->scrapy) (23.1.0)\n",
      "Requirement already satisfied: pyasn1 in /home/md/.local/lib/python3.10/site-packages (from service-identity>=18.1.0->scrapy) (0.5.0)\n",
      "Requirement already satisfied: pyasn1-modules in /home/md/.local/lib/python3.10/site-packages (from service-identity>=18.1.0->scrapy) (0.3.0)\n",
      "Requirement already satisfied: hyperlink>=17.1.1 in /home/md/.local/lib/python3.10/site-packages (from Twisted<23.8.0,>=18.9.0->scrapy) (21.0.0)\n",
      "Requirement already satisfied: incremental>=21.3.0 in /home/md/.local/lib/python3.10/site-packages (from Twisted<23.8.0,>=18.9.0->scrapy) (22.10.0)\n",
      "Requirement already satisfied: Automat>=0.8.0 in /home/md/.local/lib/python3.10/site-packages (from Twisted<23.8.0,>=18.9.0->scrapy) (22.10.0)\n",
      "Requirement already satisfied: typing-extensions>=3.6.5 in /home/md/.local/lib/python3.10/site-packages (from Twisted<23.8.0,>=18.9.0->scrapy) (4.8.0)\n",
      "Requirement already satisfied: constantly>=15.1 in /home/md/.local/lib/python3.10/site-packages (from Twisted<23.8.0,>=18.9.0->scrapy) (15.1.0)\n",
      "Requirement already satisfied: filelock>=3.0.8 in /home/md/.local/lib/python3.10/site-packages (from tldextract->scrapy) (3.12.4)\n",
      "Requirement already satisfied: requests-file>=1.4 in /home/md/.local/lib/python3.10/site-packages (from tldextract->scrapy) (1.5.1)\n",
      "Requirement already satisfied: pycparser in /home/md/.local/lib/python3.10/site-packages (from cffi>=1.12->cryptography>=36.0.0->scrapy) (2.21)\n"
     ]
    }
   ],
   "source": [
    "! pip install nltk textblob deep_translator pandas scrapy"
   ]
  },
  {
   "cell_type": "code",
   "execution_count": 2,
   "id": "683c7d74-f685-4760-89f7-b3fdffe69af3",
   "metadata": {},
   "outputs": [
    {
     "name": "stderr",
     "output_type": "stream",
     "text": [
      "/usr/lib/python3/dist-packages/scipy/__init__.py:146: UserWarning: A NumPy version >=1.17.3 and <1.25.0 is required for this version of SciPy (detected version 1.26.1\n",
      "  warnings.warn(f\"A NumPy version >={np_minversion} and <{np_maxversion}\"\n",
      "[nltk_data] Downloading package punkt to /home/md/nltk_data...\n",
      "[nltk_data]   Package punkt is already up-to-date!\n",
      "[nltk_data] Downloading package stopwords to /home/md/nltk_data...\n",
      "[nltk_data]   Package stopwords is already up-to-date!\n"
     ]
    },
    {
     "data": {
      "text/plain": [
       "True"
      ]
     },
     "execution_count": 2,
     "metadata": {},
     "output_type": "execute_result"
    }
   ],
   "source": [
    "import nltk\n",
    "from nltk.corpus import stopwords\n",
    "from nltk.tokenize import word_tokenize\n",
    "from deep_translator import GoogleTranslator\n",
    "from textblob import TextBlob\n",
    "\n",
    "# Descargar los recursos necesarios de NLTK\n",
    "nltk.download('punkt')\n",
    "nltk.download('stopwords')"
   ]
  },
  {
   "cell_type": "code",
   "execution_count": 3,
   "id": "6d318bbe-aec6-4712-88fa-0aedb64d9853",
   "metadata": {},
   "outputs": [],
   "source": [
    "# Definir la lista de palabras vacías\n",
    "stop_words = set(stopwords.words('english'))\n",
    "\n",
    "# Función para eliminar palabras vacías y neutras, conservando solo palabras con carga sentimental\n",
    "def filtrar_texto(texto):\n",
    "    palabras = word_tokenize(texto)\n",
    "    palabras_filtradas = [palabra for palabra in palabras if not palabra in stop_words and TextBlob(palabra).sentiment.polarity != 0]\n",
    "    return ' '.join(palabras_filtradas)\n",
    "\n",
    "def dividir_texto(texto, limite_caracteres=4000):\n",
    "    palabras = texto.split()\n",
    "    secciones = []\n",
    "    current_section = palabras[0]\n",
    "\n",
    "    for palabra in palabras[1:]:\n",
    "        if len(current_section) + len(palabra) + 1 <= limite_caracteres:\n",
    "            current_section += ' ' + palabra\n",
    "        else:\n",
    "            secciones.append(current_section)\n",
    "            current_section = palabra\n",
    "\n",
    "    secciones.append(current_section)\n",
    "    return secciones\n",
    "\n",
    "\n",
    "def preprocesar_texto(discurso):\n",
    "    secciones = dividir_texto(discurso)\n",
    "    \n",
    "    texto_traducido = ''\n",
    "    for seccion in secciones:\n",
    "        texto_traducido += GoogleTranslator(source='auto', target='en').translate(seccion) + ' '\n",
    "\n",
    "    return filtrar_texto(texto_traducido)"
   ]
  },
  {
   "cell_type": "code",
   "execution_count": null,
   "id": "b774b719-7374-424c-9431-54b223a7ada0",
   "metadata": {},
   "outputs": [],
   "source": [
    "import pandas as pd\n",
    "df = pd.read_csv(\"discursos.csv\")\n",
    "df[\"palabras_claves\"] = df[\"discurso\"].apply(preprocesar_texto)"
   ]
  },
  {
   "cell_type": "code",
   "execution_count": null,
   "id": "0a1531f5-fcfa-403e-b18c-d3aeb3cd43d3",
   "metadata": {},
   "outputs": [],
   "source": [
    "print(df)"
   ]
  },
  {
   "cell_type": "code",
   "execution_count": null,
   "id": "fff7a2f7-6c2b-49f4-a9e0-e1940b711436",
   "metadata": {},
   "outputs": [],
   "source": [
    "'''\n",
    "Archivo obtenido de:\n",
    "https://saifmohammad.com/WebPages/NRC-Emotion-Lexicon.htm\n",
    "\n",
    "The NRC Emotion Lexicon is a list of English words and their associations with eight basic emotions \n",
    "(anger, fear, anticipation, trust, surprise, sadness, joy, and disgust) and two sentiments (negative and positive). \n",
    "The annotations were manually done by crowdsourcing.\n",
    "'''\n",
    "\n",
    "NRC_LEXICON = 'NRC-Emotion-Lexicon-Wordlevel-v0.92.txt'\n",
    "\n",
    "emolex = {}\n",
    "with open(NRC_LEXICON, 'r') as f:\n",
    "    for line in f:\n",
    "        word, emotion, flag = line.strip().split()\n",
    "        if word not in emolex:\n",
    "            emolex[word] = {}\n",
    "        emolex[word][emotion] = int(flag)\n",
    "\n",
    "emotions = {emotion: 0 for emotion in emolex[list(emolex.keys())[0]].keys()}\n",
    "for word in texto_preprocesado.split():\n",
    "    if word in emolex:\n",
    "        for emotion in emolex[word]:\n",
    "            if emolex[word][emotion] == 1:\n",
    "                emotions[emotion] += 1\n",
    "\n",
    "print(\"Emociones:\", emotions)"
   ]
  },
  {
   "cell_type": "code",
   "execution_count": null,
   "id": "634d9443-7e05-4311-8a98-be3489be0834",
   "metadata": {},
   "outputs": [],
   "source": []
  }
 ],
 "metadata": {
  "kernelspec": {
   "display_name": "Python 3 (ipykernel)",
   "language": "python",
   "name": "python3"
  },
  "language_info": {
   "codemirror_mode": {
    "name": "ipython",
    "version": 3
   },
   "file_extension": ".py",
   "mimetype": "text/x-python",
   "name": "python",
   "nbconvert_exporter": "python",
   "pygments_lexer": "ipython3",
   "version": "3.10.12"
  }
 },
 "nbformat": 4,
 "nbformat_minor": 5
}
